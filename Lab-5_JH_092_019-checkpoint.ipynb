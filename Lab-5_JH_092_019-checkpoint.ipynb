{
 "cells": [
  {
   "cell_type": "markdown",
   "id": "884bbacd",
   "metadata": {},
   "source": [
    "# Task 1"
   ]
  },
  {
   "cell_type": "markdown",
   "id": "6c940b77",
   "metadata": {},
   "source": [
    "**Problem 1**"
   ]
  },
  {
   "cell_type": "code",
   "execution_count": 15,
   "id": "8dc68c56",
   "metadata": {},
   "outputs": [],
   "source": [
    "def Bayes_1(pA,pB,pBA):\n",
    "    pAB=pA*pBA/pB\n",
    "    return pAB\n"
   ]
  },
  {
   "cell_type": "code",
   "execution_count": 16,
   "id": "3fb17d77",
   "metadata": {},
   "outputs": [
    {
     "name": "stdout",
     "output_type": "stream",
     "text": [
      "Probability of rain:  0.425\n"
     ]
    }
   ],
   "source": [
    "print(\"Probability of rain: \",Bayes_1(.2,.4,.85))\n"
   ]
  },
  {
   "cell_type": "markdown",
   "id": "32c200a6",
   "metadata": {},
   "source": [
    "**Problem 2**"
   ]
  },
  {
   "cell_type": "code",
   "execution_count": 17,
   "id": "b2a5148d",
   "metadata": {},
   "outputs": [],
   "source": [
    "from math import comb\n",
    "def Bayes_2(Total, Blue, HaveToBlue):\n",
    "    temp=Total\n",
    "    t=Total-Blue\n",
    "    S=0\n",
    "    for i in range(t+1):\n",
    "        temp_t= comb(temp,Blue)/comb(Total,Blue)\n",
    "        S+=temp_t\n",
    "        temp=temp-1\n",
    "        \n",
    "    result=comb(Total,HaveToBlue)/S\n",
    "    return result"
   ]
  },
  {
   "cell_type": "code",
   "execution_count": 18,
   "id": "ad155df5",
   "metadata": {},
   "outputs": [
    {
     "name": "stdout",
     "output_type": "stream",
     "text": [
      "Probability that balls are Blue:  0.6\n"
     ]
    }
   ],
   "source": [
    "print(\"Probability that balls are Blue: \",Bayes_2(4,2,4))"
   ]
  },
  {
   "cell_type": "markdown",
   "id": "b10bc70d",
   "metadata": {},
   "source": [
    "**Problem 3**"
   ]
  },
  {
   "cell_type": "code",
   "execution_count": 19,
   "id": "ca6f81ec",
   "metadata": {},
   "outputs": [],
   "source": [
    "def Bayes_3(a,b,c,d):\n",
    "    e1 = e2 = e3 = 1/3\n",
    "    result= (e3*c/d)/(e1*a/d + e2*b/d + e3*c/d)\n",
    "\n",
    "    return result\n",
    "    "
   ]
  },
  {
   "cell_type": "code",
   "execution_count": 20,
   "id": "90e53aa5",
   "metadata": {},
   "outputs": [
    {
     "name": "stdout",
     "output_type": "stream",
     "text": [
      "Probability that balls from 3rd urn:  0.44444444444444436\n"
     ]
    }
   ],
   "source": [
    "print(\"Probability that balls from 3rd urn: \",Bayes_3(3,2,4,5))"
   ]
  },
  {
   "cell_type": "markdown",
   "id": "d008d507",
   "metadata": {},
   "source": [
    "# TASK 2"
   ]
  },
  {
   "cell_type": "code",
   "execution_count": null,
   "id": "870818e2",
   "metadata": {},
   "outputs": [],
   "source": [
    "from sklearn.model_selection import train_test_split\n",
    "from sklearn.naive_bayes import GaussianNB\n",
    "\n",
    "from sklearn.metrics import (\n",
    "    accuracy_score,\n",
    "    confusion_matrix,\n",
    "    ConfusionMatrixDisplay,\n",
    "    f1_score,\n",
    ")\n",
    "\n",
    "import pandas as pd\n",
    "from matplotlib import pyplot as plt"
   ]
  },
  {
   "cell_type": "code",
   "execution_count": null,
   "id": "02335566",
   "metadata": {},
   "outputs": [],
   "source": [
    "df = pd.read_csv(\"loan_data.csv\")"
   ]
  },
  {
   "cell_type": "code",
   "execution_count": null,
   "id": "28a5c010",
   "metadata": {},
   "outputs": [],
   "source": [
    "df.head()"
   ]
  },
  {
   "cell_type": "code",
   "execution_count": null,
   "id": "4127ce95",
   "metadata": {},
   "outputs": [],
   "source": [
    "df = pd.get_dummies(df,columns=['purpose'],drop_first=True)\n",
    "\n",
    "X = df.drop('not.fully.paid', axis=1)\n",
    "y = df['not.fully.paid']\n",
    "\n",
    "X_train, X_test, y_train, y_test = train_test_split(\n",
    "    X, y, test_size=0.33, random_state=125\n",
    ")"
   ]
  },
  {
   "cell_type": "code",
   "execution_count": null,
   "id": "fbcc6547",
   "metadata": {},
   "outputs": [],
   "source": [
    "model = GaussianNB()\n",
    "model.fit(X_train, y_train)"
   ]
  },
  {
   "cell_type": "code",
   "execution_count": null,
   "id": "c19c512f",
   "metadata": {},
   "outputs": [],
   "source": [
    "y_pred = model.predict(X_test)\n",
    "\n",
    "accuray = accuracy_score(y_pred, y_test)\n",
    "f1 = f1_score(y_pred, y_test, average=\"weighted\")\n",
    "\n",
    "print(\"Accuracy:\", accuray)\n",
    "print(\"F1 Score:\", f1)"
   ]
  },
  {
   "cell_type": "code",
   "execution_count": null,
   "id": "2b209edd",
   "metadata": {},
   "outputs": [],
   "source": [
    "labels = [\"Fully Paid\", \"Not fully Paid\"]\n",
    "cm = confusion_matrix(y_test, y_pred)\n",
    "disp = ConfusionMatrixDisplay(confusion_matrix=cm, display_labels=labels)\n",
    "disp.plot();"
   ]
  },
  {
   "cell_type": "code",
   "execution_count": null,
   "id": "1b46be70",
   "metadata": {},
   "outputs": [],
   "source": []
  }
 ],
 "metadata": {
  "kernelspec": {
   "display_name": "Python 3 (ipykernel)",
   "language": "python",
   "name": "python3"
  },
  "language_info": {
   "codemirror_mode": {
    "name": "ipython",
    "version": 3
   },
   "file_extension": ".py",
   "mimetype": "text/x-python",
   "name": "python",
   "nbconvert_exporter": "python",
   "pygments_lexer": "ipython3",
   "version": "3.10.1"
  }
 },
 "nbformat": 4,
 "nbformat_minor": 5
}
