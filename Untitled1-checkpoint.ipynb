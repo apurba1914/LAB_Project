{
 "cells": [
  {
   "cell_type": "code",
   "execution_count": 15,
   "id": "90910836",
   "metadata": {},
   "outputs": [],
   "source": [
    "def Bayes_1(pA,pB,pBA):\n",
    "    pAB=pA*pBA/pB\n",
    "    return pAB"
   ]
  },
  {
   "cell_type": "code",
   "execution_count": 17,
   "id": "30bc6399",
   "metadata": {},
   "outputs": [
    {
     "name": "stdout",
     "output_type": "stream",
     "text": [
      "0.425\n"
     ]
    }
   ],
   "source": [
    "print(Bayes_1(.2,.4,.85))"
   ]
  },
  {
   "cell_type": "code",
   "execution_count": 11,
   "id": "607141a4",
   "metadata": {},
   "outputs": [],
   "source": [
    "def Bayes_3(a,b,c):\n",
    "    pC=c/(a+b+c)\n",
    "    return pC"
   ]
  },
  {
   "cell_type": "code",
   "execution_count": 12,
   "id": "4ad9c4ca",
   "metadata": {},
   "outputs": [
    {
     "name": "stdout",
     "output_type": "stream",
     "text": [
      "0.4444444444444444\n"
     ]
    }
   ],
   "source": [
    "print (Bayes_3(3,2,4))"
   ]
  },
  {
   "cell_type": "code",
   "execution_count": 38,
   "id": "743a39c8",
   "metadata": {},
   "outputs": [],
   "source": [
    "from math import comb\n",
    "def Bayes_2(Total, Blue, HaveToBlue):\n",
    "    temp=Total\n",
    "    t=Total-Blue\n",
    "    S=0\n",
    "    for i in range(t+1):\n",
    "        temp_t= comb(temp,Blue)/comb(Total,Blue)\n",
    "        S+=temp_t\n",
    "        temp=temp-1\n",
    "        \n",
    "    result=comb(Total,HaveToBlue)/S\n",
    "    return result\n",
    "    \n",
    "        "
   ]
  },
  {
   "cell_type": "code",
   "execution_count": 39,
   "id": "61a80801",
   "metadata": {},
   "outputs": [
    {
     "name": "stdout",
     "output_type": "stream",
     "text": [
      "0.6\n"
     ]
    }
   ],
   "source": [
    "print(Bayes_2(4,2,4))"
   ]
  },
  {
   "cell_type": "code",
   "execution_count": null,
   "id": "9a6daf08",
   "metadata": {},
   "outputs": [],
   "source": []
  }
 ],
 "metadata": {
  "kernelspec": {
   "display_name": "Python 3 (ipykernel)",
   "language": "python",
   "name": "python3"
  },
  "language_info": {
   "codemirror_mode": {
    "name": "ipython",
    "version": 3
   },
   "file_extension": ".py",
   "mimetype": "text/x-python",
   "name": "python",
   "nbconvert_exporter": "python",
   "pygments_lexer": "ipython3",
   "version": "3.10.1"
  }
 },
 "nbformat": 4,
 "nbformat_minor": 5
}
